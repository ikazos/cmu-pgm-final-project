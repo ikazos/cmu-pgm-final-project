{
 "cells": [
  {
   "cell_type": "code",
   "execution_count": 1,
   "id": "415d9ab2-14bb-49c2-b603-eb03d4913ae6",
   "metadata": {},
   "outputs": [],
   "source": [
    "import numpy as np\n",
    "import ampligraph"
   ]
  },
  {
   "cell_type": "code",
   "execution_count": 2,
   "id": "0be74e78-ada0-48e7-80d5-30fdcf9c93a5",
   "metadata": {},
   "outputs": [
    {
     "name": "stdout",
     "output_type": "stream",
     "text": [
      "train size: (86835, 3)\n",
      "dev size: (2824, 3)\n",
      "test size: (2924, 3)\n",
      "everything: (92583, 3)\n"
     ]
    }
   ],
   "source": [
    "from ampligraph.datasets import load_wn18rr\n",
    "\n",
    "dataset = load_wn18rr(clean_unseen=True)\n",
    "\n",
    "train_raw = dataset[\"train\"]\n",
    "dev_raw = dataset[\"valid\"]\n",
    "test_raw  = dataset[\"test\"]\n",
    "\n",
    "everything = np.concatenate((train_raw, dev_raw, test_raw))\n",
    "\n",
    "print(f\"train size: {train_raw.shape}\")\n",
    "print(f\"dev size: {dev_raw.shape}\")\n",
    "print(f\"test size: {test_raw.shape}\")\n",
    "print(f\"everything: {everything.shape}\")"
   ]
  },
  {
   "cell_type": "code",
   "execution_count": 3,
   "id": "43671522-a317-49a7-82c0-44d0e4f978c1",
   "metadata": {},
   "outputs": [
    {
     "name": "stdout",
     "output_type": "stream",
     "text": [
      "['/m/027rn' '/location/country/form_of_government' '/m/06cx9']\n",
      "['00260881' '_hypernym' '00260622']\n",
      "['Peter_Creamer' 'wasBornIn' 'Hartlepool']\n",
      "['__spiritual_bouquet_1' '_type_of' '__sympathy_card_1']\n",
      "['antoine_brutus_menier' 'religion' 'roman_catholic_church']\n"
     ]
    }
   ],
   "source": [
    "from ampligraph import datasets\n",
    "\n",
    "fb15k_237_raw = datasets.load_fb15k_237()\n",
    "print(fb15k_237_raw[\"train\"][0])\n",
    "\n",
    "wn18rr_raw = datasets.load_wn18rr()\n",
    "print(wn18rr_raw[\"train\"][0])\n",
    "\n",
    "yago3_10_raw = datasets.load_yago3_10()\n",
    "print(yago3_10_raw[\"train\"][10])\n",
    "\n",
    "wn11_raw = datasets.load_wn11()\n",
    "print(wn11_raw[\"train\"][0])\n",
    "\n",
    "fb13_raw = datasets.load_fb13()\n",
    "print(fb13_raw[\"train\"][0])"
   ]
  },
  {
   "cell_type": "code",
   "execution_count": 13,
   "id": "7a51a641-df61-4678-8c2e-c00b3011a54f",
   "metadata": {},
   "outputs": [
    {
     "name": "stdout",
     "output_type": "stream",
     "text": [
      "0.07006732854045418\n",
      "0.3810198300283286\n",
      "0.3388911209321012\n",
      "0.319868771785934\n",
      "0.27708192281652\n"
     ]
    }
   ],
   "source": [
    "def find_majority_acc(rawdata):\n",
    "    dev = rawdata[\"valid\"]\n",
    "    rels_raw = np.unique(dev[:, 1])\n",
    "    rel2idx = { rel: k for k, rel in enumerate(rels_raw) }\n",
    "    dev_rels = np.vectorize(lambda rel: rel2idx[rel])(dev[:, 1])\n",
    "    max_rel_idx = np.bincount(dev_rels).argmax()\n",
    "    return (dev_rels == max_rel_idx).mean()\n",
    "\n",
    "for d in ( fb15k_237_raw, wn18rr_raw, yago3_10_raw, wn11_raw, fb13_raw):\n",
    "    print(find_majority_acc(d))"
   ]
  },
  {
   "cell_type": "code",
   "execution_count": 114,
   "id": "38f926ce-dedd-41bf-b1d9-3368c7158d3f",
   "metadata": {},
   "outputs": [
    {
     "data": {
      "text/plain": [
       "['', 'Hello']"
      ]
     },
     "execution_count": 114,
     "metadata": {},
     "output_type": "execute_result"
    }
   ],
   "source": [
    "def fancysplit(s):\n",
    "    spans = []\n",
    "    start = 0\n",
    "    for k, ch in enumerate(s):\n",
    "        if ch.isupper():\n",
    "            spans.append((start, k))\n",
    "            start = k\n",
    "    spans.append((start, len(s)))\n",
    "        \n",
    "    return [ s[start:end] for start, end in spans ]\n",
    "\n",
    "fancysplit(\"Hello\")"
   ]
  },
  {
   "cell_type": "code",
   "execution_count": 9,
   "id": "019427d4-0256-41e6-a856-fde343a816af",
   "metadata": {},
   "outputs": [
    {
     "name": "stdout",
     "output_type": "stream",
     "text": [
      "40559 entities\n"
     ]
    }
   ],
   "source": [
    "entities = np.unique(np.concatenate([everything[:, 0], everything[:, 2]]))\n",
    "num_entities = len(entities)\n",
    "print(f\"{num_entities} entities\")"
   ]
  },
  {
   "cell_type": "code",
   "execution_count": 10,
   "id": "eb18f8dd-a4f5-4e81-a86e-04b8d52b3bca",
   "metadata": {},
   "outputs": [
    {
     "name": "stdout",
     "output_type": "stream",
     "text": [
      "11 relations\n"
     ]
    }
   ],
   "source": [
    "relations = np.unique(everything[:, 1])\n",
    "num_relations = len(relations)\n",
    "print(f\"{num_relations} relations\")"
   ]
  },
  {
   "cell_type": "code",
   "execution_count": 11,
   "id": "6dafbd18-9d20-4825-ba8b-f6b5d60f51c2",
   "metadata": {},
   "outputs": [],
   "source": [
    "idx2ent = np.copy(entities)\n",
    "ent2idx = { ent: k for k, ent in enumerate(idx2ent) }\n",
    "\n",
    "idx2rel = np.copy(relations)\n",
    "rel2idx = { rel: k for k, rel in enumerate(idx2rel) }"
   ]
  },
  {
   "cell_type": "code",
   "execution_count": 86,
   "id": "93ae5098-7936-4a2d-a2ec-ba147a70054b",
   "metadata": {},
   "outputs": [],
   "source": [
    "def convert(raw, ent2idx, rel2idx):\n",
    "    ent_lookup = np.vectorize(lambda ent: ent2idx[ent])\n",
    "    rel_lookup = np.vectorize(lambda rel: rel2idx[rel])\n",
    "    \n",
    "    sbjs = ent_lookup(raw[:, 0])\n",
    "    objs = ent_lookup(raw[:, 2])\n",
    "    rels = rel_lookup(raw[:, 1])\n",
    "        \n",
    "    return (sbjs, objs, rels)\n",
    "\n",
    "train_sbjs, train_objs, train_rels = convert(train_raw, ent2idx, rel2idx)\n",
    "dev_sbjs,   dev_objs,   dev_rels   = convert(dev_raw,   ent2idx, rel2idx)\n",
    "test_sbjs,  test_objs,  test_rels  = convert(test_raw,  ent2idx, rel2idx)"
   ]
  },
  {
   "cell_type": "code",
   "execution_count": 90,
   "id": "7890c57e-5a9e-4173-b111-768eb3319054",
   "metadata": {},
   "outputs": [
    {
     "data": {
      "text/plain": [
       "0.3810198300283286"
      ]
     },
     "execution_count": 90,
     "metadata": {},
     "output_type": "execute_result"
    }
   ],
   "source": [
    "max_rel_idx = np.bincount(dev_rels).argmax()\n",
    "(dev_rels == max_rel_idx).mean()"
   ]
  },
  {
   "cell_type": "code",
   "execution_count": 91,
   "id": "e09ed22d-79c7-4ce2-82c8-591ba1ceb26f",
   "metadata": {},
   "outputs": [
    {
     "name": "stdout",
     "output_type": "stream",
     "text": [
      "True\n"
     ]
    }
   ],
   "source": [
    "import torch\n",
    "\n",
    "print(torch.cuda.is_available())"
   ]
  },
  {
   "cell_type": "code",
   "execution_count": 92,
   "id": "bf99bed9-fc47-4ae6-bc0d-fc4ee1e9ca96",
   "metadata": {},
   "outputs": [
    {
     "name": "stdout",
     "output_type": "stream",
     "text": [
      "cuda\n"
     ]
    }
   ],
   "source": [
    "device = torch.device(\"cuda\") if torch.cuda.is_available() else torch.device(\"cpu\")\n",
    "print(device)"
   ]
  },
  {
   "cell_type": "code",
   "execution_count": 93,
   "id": "b68bdd65-3e09-42f0-84b9-d4be6a31e68e",
   "metadata": {},
   "outputs": [],
   "source": [
    "from torch.utils.data import Dataset, DataLoader\n",
    "\n",
    "class MyDataset(Dataset):\n",
    "    def __init__(self, sbjs, objs, rels):\n",
    "        self.sbjs = torch.tensor(sbjs).to(int)\n",
    "        self.objs = torch.tensor(objs).to(int)\n",
    "        self.rels = torch.tensor(rels).to(int)\n",
    "        assert self.sbjs.shape == self.objs.shape\n",
    "        assert self.sbjs.shape == self.rels.shape\n",
    "        \n",
    "    def __len__(self):\n",
    "        return len(self.sbjs)\n",
    "    \n",
    "    def __getitem__(self, k):\n",
    "        return ( self.sbjs[k], self.objs[k], self.rels[k] )"
   ]
  },
  {
   "cell_type": "code",
   "execution_count": 94,
   "id": "64173e66-3c49-4a18-a9b1-e8350c0dd6cb",
   "metadata": {},
   "outputs": [],
   "source": [
    "train_set = MyDataset(train_sbjs, train_objs, train_rels)\n",
    "dev_set   = MyDataset(dev_sbjs,   dev_objs,   dev_rels)\n",
    "test_set  = MyDataset(test_sbjs,  test_objs,  test_rels)"
   ]
  },
  {
   "cell_type": "code",
   "execution_count": 95,
   "id": "17e75348-8124-471a-9c9e-96422a96b5bf",
   "metadata": {},
   "outputs": [],
   "source": [
    "train_loader = DataLoader(train_set, batch_size=64, shuffle=True, num_workers=4, pin_memory=True)\n",
    "dev_loader   = DataLoader(dev_set,   batch_size=64, shuffle=True, num_workers=4, pin_memory=True)\n",
    "test_loader  = DataLoader(test_set,  batch_size=64, shuffle=True, num_workers=4, pin_memory=True)"
   ]
  },
  {
   "cell_type": "code",
   "execution_count": 107,
   "id": "cdac5e97-5489-4a90-9321-9fe10bf8ed85",
   "metadata": {},
   "outputs": [],
   "source": [
    "import torch.nn as nn\n",
    "from torch.distributions.normal import Normal\n",
    "import sys\n",
    "\n",
    "class NormalEmbs(nn.Module):\n",
    "    def __init__(self, num_entities, emb_dim, mean, var):\n",
    "        super(NormalEmbs, self).__init__()\n",
    "        \n",
    "        n = Normal(mean, var)\n",
    "        weights = n.sample(num_entities, emb_dim)\n",
    "        self.embs = nn.Embedding.from_pretrained(weights, freeze=False)\n",
    "        \n",
    "    def forward(self, ents):\n",
    "        return self.embs(ents)\n",
    "    \n",
    "class GloveEmbs(nn.Module):\n",
    "    def __init__(self, weights_path):\n",
    "        with open(weights_path, \"rb\") as f:\n",
    "            weights = np.load(f)\n",
    "            \n",
    "        self.embs = nn.Embedding.from_pretrained(weights, freeze=False)\n",
    "    \n",
    "    def precomp(self, idx2ent, glove_path, weights_path, delim=None):\n",
    "        num_ents = len(idx2ent)\n",
    "        \n",
    "        word2vec = dict()\n",
    "        with open(glove_path, \"r\") as f:\n",
    "            for line in f:\n",
    "                things = line.split()\n",
    "                word = things[0]\n",
    "                vec = np.array(list(map(float, things[1:])))\n",
    "                word2vec[word] = vec\n",
    "                \n",
    "        hits = 0\n",
    "        misses = 0\n",
    "                  \n",
    "        weights = np.zeros((num_ents, 300))\n",
    "        for idx, ent in idx2ent.items():\n",
    "            weight = []\n",
    "            for word in ent.split(delim):\n",
    "                word = word.lower()\n",
    "                weight.append(word2vec[word] if word in word2vec else np.zeros((300,)))\n",
    "                hits += word in word2vec\n",
    "                misses += word not in word2vec\n",
    "            weights[idx] = np.mean(mean, axis=0)\n",
    "                  \n",
    "        print(f\"{hits}/{hits + misses} hits ({float(hits) * 10000 // float(hits + misses) / 100}%)\")\n",
    "            \n",
    "        with open(weights_path, \"wb+\") as f:\n",
    "            np.save(f, weights)\n",
    "\n",
    "    def forward(self, ents):\n",
    "        return self.embs(ents)\n",
    "            \n",
    "class Bilinear(nn.Module):\n",
    "    def __init__(self, emb_dim, num_relations):\n",
    "        super(Bilinear, self).__init__()\n",
    "        \n",
    "        self.bilinear = nn.Bilinear(emb_dim, emb_dim, num_relations)\n",
    "        \n",
    "    def forward(self, sbjs, objs):\n",
    "        return self.bilinear(sbjs, objs)"
   ]
  },
  {
   "cell_type": "code",
   "execution_count": 97,
   "id": "fbf3af6a-94d1-481d-848b-eb46e00b283d",
   "metadata": {},
   "outputs": [],
   "source": [
    "import torch.optim as optim\n",
    "\n",
    "emb_dim = 300\n",
    "\n",
    "model = Bilinear(num_entities, emb_dim, num_relations)\n",
    "model.to(device)\n",
    "\n",
    "optim = optim.Adam(model.parameters())"
   ]
  },
  {
   "cell_type": "code",
   "execution_count": 98,
   "id": "985a574b-a1ab-4533-86b0-b213c89d4794",
   "metadata": {
    "tags": []
   },
   "outputs": [
    {
     "name": "stdout",
     "output_type": "stream",
     "text": [
      "Training...\n"
     ]
    },
    {
     "name": "stderr",
     "output_type": "stream",
     "text": [
      "100%|███████████████████████████████████████████████████████████████████████████████████████████████████████████████████████████████████████████████████████████████████████████████████████████████████████████████████████████████████████| 1357/1357 [00:10<00:00, 133.24it/s]\n"
     ]
    },
    {
     "name": "stdout",
     "output_type": "stream",
     "text": [
      "Validation...\n"
     ]
    },
    {
     "name": "stderr",
     "output_type": "stream",
     "text": [
      "100%|███████████████████████████████████████████████████████████████████████████████████████████████████████████████████████████████████████████████████████████████████████████████████████████████████████████████████████████████████████████| 45/45 [00:00<00:00, 121.97it/s]\n"
     ]
    },
    {
     "name": "stdout",
     "output_type": "stream",
     "text": [
      "Epoch 1/100\n",
      "\tTraining accuracy: 0.343467495825416,\tF1: 0.15756633236977613,\tLoss: 141.5579376220703\n",
      "\tValidation accuracy: 0.35410764872521244,\tF1: 0.18395653196006487,\tLoss: 563.873779296875\n",
      "Training...\n"
     ]
    },
    {
     "name": "stderr",
     "output_type": "stream",
     "text": [
      "100%|███████████████████████████████████████████████████████████████████████████████████████████████████████████████████████████████████████████████████████████████████████████████████████████████████████████████████████████████████████| 1357/1357 [00:10<00:00, 135.47it/s]\n"
     ]
    },
    {
     "name": "stdout",
     "output_type": "stream",
     "text": [
      "Validation...\n"
     ]
    },
    {
     "name": "stderr",
     "output_type": "stream",
     "text": [
      "100%|███████████████████████████████████████████████████████████████████████████████████████████████████████████████████████████████████████████████████████████████████████████████████████████████████████████████████████████████████████████| 45/45 [00:00<00:00, 156.75it/s]\n"
     ]
    },
    {
     "name": "stdout",
     "output_type": "stream",
     "text": [
      "Epoch 2/100\n",
      "\tTraining accuracy: 0.717164737720965,\tF1: 0.5056112378360468,\tLoss: 765.9420166015625\n",
      "\tValidation accuracy: 0.4978753541076487,\tF1: 0.2835737794821599,\tLoss: 3074.48583984375\n",
      "Training...\n"
     ]
    },
    {
     "name": "stderr",
     "output_type": "stream",
     "text": [
      "100%|███████████████████████████████████████████████████████████████████████████████████████████████████████████████████████████████████████████████████████████████████████████████████████████████████████████████████████████████████████| 1357/1357 [00:10<00:00, 129.54it/s]\n"
     ]
    },
    {
     "name": "stdout",
     "output_type": "stream",
     "text": [
      "Validation...\n"
     ]
    },
    {
     "name": "stderr",
     "output_type": "stream",
     "text": [
      "100%|███████████████████████████████████████████████████████████████████████████████████████████████████████████████████████████████████████████████████████████████████████████████████████████████████████████████████████████████████████████| 45/45 [00:00<00:00, 127.23it/s]\n"
     ]
    },
    {
     "name": "stdout",
     "output_type": "stream",
     "text": [
      "Epoch 3/100\n",
      "\tTraining accuracy: 0.8950538377382392,\tF1: 0.7205639187740741,\tLoss: 758.3543701171875\n",
      "\tValidation accuracy: 0.5371813031161473,\tF1: 0.3240067467727563,\tLoss: 8802.0380859375\n",
      "Training...\n"
     ]
    },
    {
     "name": "stderr",
     "output_type": "stream",
     "text": [
      "100%|███████████████████████████████████████████████████████████████████████████████████████████████████████████████████████████████████████████████████████████████████████████████████████████████████████████████████████████████████████| 1357/1357 [00:10<00:00, 133.83it/s]\n"
     ]
    },
    {
     "name": "stdout",
     "output_type": "stream",
     "text": [
      "Validation...\n"
     ]
    },
    {
     "name": "stderr",
     "output_type": "stream",
     "text": [
      "100%|███████████████████████████████████████████████████████████████████████████████████████████████████████████████████████████████████████████████████████████████████████████████████████████████████████████████████████████████████████████| 45/45 [00:00<00:00, 122.79it/s]\n"
     ]
    },
    {
     "name": "stdout",
     "output_type": "stream",
     "text": [
      "Epoch 4/100\n",
      "\tTraining accuracy: 0.9336903322393044,\tF1: 0.792373497267164,\tLoss: 902.953125\n",
      "\tValidation accuracy: 0.5591359773371105,\tF1: 0.34224058796113277,\tLoss: 18517.240234375\n",
      "Training...\n"
     ]
    },
    {
     "name": "stderr",
     "output_type": "stream",
     "text": [
      "100%|███████████████████████████████████████████████████████████████████████████████████████████████████████████████████████████████████████████████████████████████████████████████████████████████████████████████████████████████████████| 1357/1357 [00:07<00:00, 191.81it/s]\n"
     ]
    },
    {
     "name": "stdout",
     "output_type": "stream",
     "text": [
      "Validation...\n"
     ]
    },
    {
     "name": "stderr",
     "output_type": "stream",
     "text": [
      "100%|███████████████████████████████████████████████████████████████████████████████████████████████████████████████████████████████████████████████████████████████████████████████████████████████████████████████████████████████████████████| 45/45 [00:00<00:00, 122.48it/s]\n"
     ]
    },
    {
     "name": "stdout",
     "output_type": "stream",
     "text": [
      "Epoch 5/100\n",
      "\tTraining accuracy: 0.9520930500374273,\tF1: 0.8349131137119066,\tLoss: 1064.1087646484375\n",
      "\tValidation accuracy: 0.5722379603399433,\tF1: 0.35188629991614095,\tLoss: 33631.45703125\n",
      "Training...\n"
     ]
    },
    {
     "name": "stderr",
     "output_type": "stream",
     "text": [
      "100%|███████████████████████████████████████████████████████████████████████████████████████████████████████████████████████████████████████████████████████████████████████████████████████████████████████████████████████████████████████| 1357/1357 [00:10<00:00, 130.71it/s]\n"
     ]
    },
    {
     "name": "stdout",
     "output_type": "stream",
     "text": [
      "Validation...\n"
     ]
    },
    {
     "name": "stderr",
     "output_type": "stream",
     "text": [
      "100%|███████████████████████████████████████████████████████████████████████████████████████████████████████████████████████████████████████████████████████████████████████████████████████████████████████████████████████████████████████████| 45/45 [00:00<00:00, 117.28it/s]\n"
     ]
    },
    {
     "name": "stdout",
     "output_type": "stream",
     "text": [
      "Epoch 6/100\n",
      "\tTraining accuracy: 0.9619853745609489,\tF1: 0.858467685988095,\tLoss: 1240.391845703125\n",
      "\tValidation accuracy: 0.5796742209631728,\tF1: 0.3525331908526214,\tLoss: 54385.5234375\n",
      "Training...\n"
     ]
    },
    {
     "name": "stderr",
     "output_type": "stream",
     "text": [
      "100%|███████████████████████████████████████████████████████████████████████████████████████████████████████████████████████████████████████████████████████████████████████████████████████████████████████████████████████████████████████| 1357/1357 [00:10<00:00, 129.38it/s]\n"
     ]
    },
    {
     "name": "stdout",
     "output_type": "stream",
     "text": [
      "Validation...\n"
     ]
    },
    {
     "name": "stderr",
     "output_type": "stream",
     "text": [
      "100%|███████████████████████████████████████████████████████████████████████████████████████████████████████████████████████████████████████████████████████████████████████████████████████████████████████████████████████████████████████████| 45/45 [00:00<00:00, 162.72it/s]\n"
     ]
    },
    {
     "name": "stdout",
     "output_type": "stream",
     "text": [
      "Epoch 7/100\n",
      "\tTraining accuracy: 0.9674440029941844,\tF1: 0.8771442719274234,\tLoss: 1455.631103515625\n",
      "\tValidation accuracy: 0.5803824362606232,\tF1: 0.35762129783248703,\tLoss: 82636.28125\n",
      "Training...\n"
     ]
    },
    {
     "name": "stderr",
     "output_type": "stream",
     "text": [
      "100%|███████████████████████████████████████████████████████████████████████████████████████████████████████████████████████████████████████████████████████████████████████████████████████████████████████████████████████████████████████| 1357/1357 [00:10<00:00, 131.57it/s]\n"
     ]
    },
    {
     "name": "stdout",
     "output_type": "stream",
     "text": [
      "Validation...\n"
     ]
    },
    {
     "name": "stderr",
     "output_type": "stream",
     "text": [
      "100%|███████████████████████████████████████████████████████████████████████████████████████████████████████████████████████████████████████████████████████████████████████████████████████████████████████████████████████████████████████████| 45/45 [00:00<00:00, 126.42it/s]\n"
     ]
    },
    {
     "name": "stdout",
     "output_type": "stream",
     "text": [
      "Epoch 8/100\n",
      "\tTraining accuracy: 0.9714516036160534,\tF1: 0.8845814351893875,\tLoss: 1729.3177490234375\n",
      "\tValidation accuracy: 0.5817988668555241,\tF1: 0.3581378229252246,\tLoss: 119320.40625\n",
      "Training...\n"
     ]
    },
    {
     "name": "stderr",
     "output_type": "stream",
     "text": [
      "100%|███████████████████████████████████████████████████████████████████████████████████████████████████████████████████████████████████████████████████████████████████████████████████████████████████████████████████████████████████████| 1357/1357 [00:10<00:00, 133.61it/s]\n"
     ]
    },
    {
     "name": "stdout",
     "output_type": "stream",
     "text": [
      "Validation...\n"
     ]
    },
    {
     "name": "stderr",
     "output_type": "stream",
     "text": [
      "100%|███████████████████████████████████████████████████████████████████████████████████████████████████████████████████████████████████████████████████████████████████████████████████████████████████████████████████████████████████████████| 45/45 [00:00<00:00, 123.70it/s]\n"
     ]
    },
    {
     "name": "stdout",
     "output_type": "stream",
     "text": [
      "Epoch 9/100\n",
      "\tTraining accuracy: 0.9752864628318074,\tF1: 0.8957261749301085,\tLoss: 1908.295654296875\n",
      "\tValidation accuracy: 0.5871104815864022,\tF1: 0.3557073931073188,\tLoss: 165464.9375\n",
      "Training...\n"
     ]
    },
    {
     "name": "stderr",
     "output_type": "stream",
     "text": [
      "100%|███████████████████████████████████████████████████████████████████████████████████████████████████████████████████████████████████████████████████████████████████████████████████████████████████████████████████████████████████████| 1357/1357 [00:10<00:00, 131.42it/s]\n"
     ]
    },
    {
     "name": "stdout",
     "output_type": "stream",
     "text": [
      "Validation...\n"
     ]
    },
    {
     "name": "stderr",
     "output_type": "stream",
     "text": [
      "100%|███████████████████████████████████████████████████████████████████████████████████████████████████████████████████████████████████████████████████████████████████████████████████████████████████████████████████████████████████████████| 45/45 [00:00<00:00, 124.70it/s]"
     ]
    },
    {
     "name": "stdout",
     "output_type": "stream",
     "text": [
      "Epoch 10/100\n",
      "\tTraining accuracy: 0.977106005642886,\tF1: 0.9093518281263449,\tLoss: 2179.490478515625\n",
      "\tValidation accuracy: 0.5938385269121813,\tF1: 0.36598652591903547,\tLoss: 220611.109375\n"
     ]
    },
    {
     "name": "stderr",
     "output_type": "stream",
     "text": [
      "\n"
     ]
    }
   ],
   "source": [
    "import torch.nn.functional as F\n",
    "from sklearn.metrics import f1_score\n",
    "from tqdm import tqdm\n",
    "\n",
    "training_metrics = []\n",
    "\n",
    "model.train()\n",
    "for epoch in range(10):\n",
    "    model.train()\n",
    "    \n",
    "    train_batch_losses = []\n",
    "    train_batch_preds = []\n",
    "    train_batch_rels = []\n",
    "    \n",
    "    print(\"Training...\")\n",
    "    \n",
    "    for train_batch in tqdm(train_loader):\n",
    "        sbjs, objs, rels = train_batch\n",
    "\n",
    "        sbjs = sbjs.to(device)\n",
    "        objs = objs.to(device)\n",
    "        rels = rels.to(device)\n",
    "\n",
    "        logits = model(sbjs, objs)\n",
    "        loss = F.cross_entropy(logits, rels, reduction=\"none\")\n",
    "        preds = F.softmax(logits, dim=-1).argmax(dim=-1) \n",
    "\n",
    "        loss.sum().backward()\n",
    "        \n",
    "        train_batch_losses.append(loss.cpu())\n",
    "        train_batch_preds.append(preds.cpu())\n",
    "        train_batch_rels.append(rels.cpu())\n",
    "\n",
    "        optim.step()\n",
    "        \n",
    "    train_loss = float(torch.cat(train_batch_losses).mean())\n",
    "    train_preds = torch.cat(train_batch_preds)\n",
    "    train_rels = torch.cat(train_batch_rels)\n",
    "    \n",
    "    train_acc = float((train_preds == train_rels).to(float).mean())\n",
    "    train_f1 = f1_score(train_rels, train_preds, average=\"macro\")\n",
    "    \n",
    "    model.eval()\n",
    "    \n",
    "    dev_batch_losses = []\n",
    "    dev_batch_preds = []\n",
    "    dev_batch_rels = []\n",
    "    \n",
    "    print(\"Validation...\")\n",
    "    \n",
    "    for dev_batch in tqdm(dev_loader):\n",
    "        sbjs, objs, rels = dev_batch\n",
    "\n",
    "        sbjs = sbjs.to(device)\n",
    "        objs = objs.to(device)\n",
    "        rels = rels.to(device)\n",
    "\n",
    "        logits = model(sbjs, objs)\n",
    "        loss = F.cross_entropy(logits, rels, reduction=\"none\")\n",
    "        preds = F.softmax(logits, dim=-1).argmax(dim=-1) \n",
    "        \n",
    "        dev_batch_losses.append(loss.cpu())\n",
    "        dev_batch_preds.append(preds.cpu())\n",
    "        dev_batch_rels.append(rels.cpu())\n",
    "        \n",
    "    dev_loss = float(torch.cat(dev_batch_losses).mean())\n",
    "    dev_preds = torch.cat(dev_batch_preds)\n",
    "    dev_rels = torch.cat(dev_batch_rels)\n",
    "    \n",
    "    dev_acc = float((dev_preds == dev_rels).to(float).mean())\n",
    "    dev_f1 = f1_score(dev_rels, dev_preds, average=\"macro\")\n",
    "    \n",
    "    print(f\"Epoch {epoch+1}/100\")\n",
    "    print(f\"\\tTraining accuracy: {train_acc},\\tF1: {train_f1},\\tLoss: {float(train_loss)}\")\n",
    "    print(f\"\\tValidation accuracy: {dev_acc},\\tF1: {dev_f1},\\tLoss: {float(dev_loss)}\")\n",
    "    \n",
    "    training_metrics.append(( epoch, train_acc, train_f1, train_loss, \"train\" ))\n",
    "    training_metrics.append(( epoch, dev_acc, dev_f1, dev_loss, \"dev\" ))"
   ]
  },
  {
   "cell_type": "code",
   "execution_count": 99,
   "id": "7f2fed63-f928-4313-8efb-451c5fb103d3",
   "metadata": {},
   "outputs": [],
   "source": [
    "import seaborn as sns\n",
    "import pandas as pd\n",
    "\n",
    "sns.set_theme()\n",
    "df = pd.DataFrame.from_records(training_metrics, columns=( \"epoch\", \"acc\", \"f1\", \"loss\", \"set\" ))"
   ]
  },
  {
   "cell_type": "code",
   "execution_count": 100,
   "id": "0008d93b-c58f-41b5-bbbc-0efbb17a6154",
   "metadata": {},
   "outputs": [
    {
     "data": {
      "image/png": "[encoded data removed]",
      "text/plain": [
       "<Figure size 425.475x360 with 1 Axes>"
      ]
     },
     "metadata": {},
     "output_type": "display_data"
    }
   ],
   "source": [
    "g = sns.relplot(x=\"epoch\", y=\"acc\", hue=\"set\", ci=None, kind=\"line\", data=df)\n",
    "g.figure.autofmt_xdate()"
   ]
  },
  {
   "cell_type": "code",
   "execution_count": 101,
   "id": "0f0f9c39-2809-4dae-bb09-e48ed6780d6c",
   "metadata": {},
   "outputs": [
    {
     "data": {
      "image/png": "[encoded data removed]",
      "text/plain": [
       "<Figure size 425.475x360 with 1 Axes>"
      ]
     },
     "metadata": {},
     "output_type": "display_data"
    }
   ],
   "source": [
    "g = sns.relplot(x=\"epoch\", y=\"f1\", hue=\"set\", ci=None, kind=\"line\", data=df)\n",
    "g.figure.autofmt_xdate()"
   ]
  },
  {
   "cell_type": "code",
   "execution_count": 102,
   "id": "5ab13058-ba86-4456-9f9d-98bb44803972",
   "metadata": {},
   "outputs": [
    {
     "data": {
      "image/png": "[encoded data removed]",
      "text/plain": [
       "<Figure size 425.475x360 with 1 Axes>"
      ]
     },
     "metadata": {},
     "output_type": "display_data"
    }
   ],
   "source": [
    "g = sns.relplot(x=\"epoch\", y=\"loss\", hue=\"set\", ci=None, kind=\"line\", data=df)\n",
    "g.figure.autofmt_xdate()"
   ]
  },
  {
   "cell_type": "code",
   "execution_count": 103,
   "id": "52add374-3b44-4657-a6a0-027eb19b5c09",
   "metadata": {},
   "outputs": [
    {
     "name": "stdout",
     "output_type": "stream",
     "text": [
      "Testing...\n"
     ]
    },
    {
     "name": "stderr",
     "output_type": "stream",
     "text": [
      "100%|███████████████████████████████████████████████████████████████████████████████████████████████████████████████████████████████████████████████████████████████████████████████████████████████████████████████████████████████████████████| 46/46 [00:00<00:00, 142.95it/s]"
     ]
    },
    {
     "name": "stdout",
     "output_type": "stream",
     "text": [
      "\tTest accuracy: 0.5896032831737346,\tF1: 0.3718244884101367,\tLoss: 221394.6875\n"
     ]
    },
    {
     "name": "stderr",
     "output_type": "stream",
     "text": [
      "\n"
     ]
    }
   ],
   "source": [
    "model.eval()\n",
    "\n",
    "with torch.no_grad():\n",
    "    test_batch_losses = []\n",
    "    test_batch_preds = []\n",
    "    test_batch_rels = []\n",
    "    \n",
    "    print(\"Testing...\")\n",
    "    \n",
    "    for test_batch in tqdm(test_loader):\n",
    "        sbjs, objs, rels = test_batch\n",
    "\n",
    "        sbjs = sbjs.to(device)\n",
    "        objs = objs.to(device)\n",
    "        rels = rels.to(device)\n",
    "\n",
    "        logits = model(sbjs, objs)\n",
    "        loss = F.cross_entropy(logits, rels, reduction=\"none\")\n",
    "        preds = F.softmax(logits, dim=-1).argmax(dim=-1) \n",
    "        \n",
    "        test_batch_losses.append(loss.cpu())\n",
    "        test_batch_preds.append(preds.cpu())\n",
    "        test_batch_rels.append(rels.cpu())\n",
    "        \n",
    "    test_loss = torch.cat(test_batch_losses).mean()\n",
    "    test_preds = torch.cat(test_batch_preds)\n",
    "    test_rels = torch.cat(test_batch_rels)\n",
    "    \n",
    "    test_acc = (test_preds == test_rels).to(float).mean()\n",
    "    test_f1 = f1_score(test_rels, test_preds, average=\"macro\")\n",
    "    \n",
    "    print(f\"\\tTest accuracy: {test_acc},\\tF1: {test_f1},\\tLoss: {float(test_loss)}\")"
   ]
  },
  {
   "cell_type": "code",
   "execution_count": null,
   "id": "820f9d8d-4165-44ac-9588-7f7195a8f911",
   "metadata": {},
   "outputs": [],
   "source": [
    "def setup(rawdata, delim, num_epochs):\n",
    "    train_raw = rawdata[\"train\"]\n",
    "    dev_raw   = rawdata[\"valid\"]\n",
    "    test_raw  = rawdata[\"test\"]\n",
    "\n",
    "    everything = np.concatenate((train_raw, dev_raw, test_raw))\n",
    "    \n",
    "    entities = np.unique(np.concatenate([everything[:, 0], everything[:, 2]]))\n",
    "    num_entities = len(entities)\n",
    "\n",
    "    relations = np.unique(everything[:, 1])\n",
    "    num_relations = len(relations)\n",
    "\n",
    "    idx2ent = np.copy(entities)\n",
    "    ent2idx = { ent: k for k, ent in enumerate(idx2ent) }\n",
    "\n",
    "    idx2rel = np.copy(relations)\n",
    "    rel2idx = { rel: k for k, rel in enumerate(idx2rel) }\n",
    "\n",
    "    train_sbjs, train_objs, train_rels = convert(train_raw, ent2idx, rel2idx)\n",
    "    dev_sbjs,   dev_objs,   dev_rels   = convert(dev_raw,   ent2idx, rel2idx)\n",
    "    test_sbjs,  test_objs,  test_rels  = convert(test_raw,  ent2idx, rel2idx)\n",
    "    \n",
    "    train_set = MyDataset(train_sbjs, train_objs, train_rels)\n",
    "    dev_set   = MyDataset(dev_sbjs,   dev_objs,   dev_rels)\n",
    "    test_set  = MyDataset(test_sbjs,  test_objs,  test_rels)"
   ]
  }
 ],
 "metadata": {
  "kernelspec": {
   "display_name": "Python [conda env:ampligraph] *",
   "language": "python",
   "name": "conda-env-ampligraph-py"
  },
  "language_info": {
   "codemirror_mode": {
    "name": "ipython",
    "version": 3
   },
   "file_extension": ".py",
   "mimetype": "text/x-python",
   "name": "python",
   "nbconvert_exporter": "python",
   "pygments_lexer": "ipython3",
   "version": "3.7.11"
  }
 },
 "nbformat": 4,
 "nbformat_minor": 5
}
